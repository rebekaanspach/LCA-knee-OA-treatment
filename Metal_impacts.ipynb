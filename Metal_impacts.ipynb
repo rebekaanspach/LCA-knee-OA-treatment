{
 "cells": [
  {
   "cell_type": "markdown",
   "id": "5f3c3773",
   "metadata": {},
   "source": [
    "# Material impacts (workpiece, powder and ingot)\n",
    "\n",
    "This notebook does Monte Carlo comparative LCA calculations, for GWP only. \n",
    "\n",
    "It calculates the GWP of the Ti6-6Al-4V workpiece, Ti6-6Al-4V powder, cold-rolled stainless steel and CoCr ingot at the point where they are on the point to be loaded into the SLM, used for CNC machining or casted.\n",
    "The results are saved to `results/metal_gwp.csv`."
   ]
  },
  {
   "cell_type": "code",
   "execution_count": 1,
   "id": "8970c3ba",
   "metadata": {},
   "outputs": [],
   "source": [
    "import brightway2 as bw\n",
    "import bw2calc as bc\n",
    "import bw2data as bd\n",
    "import numpy as np\n",
    "import pandas as pd\n",
    "import presamples as ps \n",
    "import numpy as np"
   ]
  },
  {
   "cell_type": "code",
   "execution_count": 2,
   "id": "c5eaf8e1",
   "metadata": {},
   "outputs": [],
   "source": [
    "# Generate objects for analysis\n",
    "\n",
    "bw.projects.set_current(\"default\")\n",
    "\n",
    "db_UKR = bw.Database('UKR')\n",
    "db_AMHTO_jig_steel = bw.Database('AM HTO- jig steel')\n",
    "db_AMHTO = bw.Database('AM HTO')\n",
    "db_CMHTO = bw.Database('CM HTO')\n",
    "cutoff38 = bw.Database('cutoff38')\n",
    "electricity = bw.Database('Electricity')\n",
    "anesthesia = bw.Database('Anesthesia')\n",
    "material = bw.Database('Raw materials')\n",
    "instruments = bw.Database('Instrumentation')\n",
    "packaging = bw.Database('Packaging')\n",
    "\n",
    "# This contain the whole life-cycle impact of the AM and CM HTO\n",
    "UKR = db_UKR.get('663ac4ef3d314e739f29ec63ea2ca399')\n",
    "CMHTO = db_CMHTO.get(\"2f3acaae6c4e4035b2d24c71725b17d8\")\n",
    "AMHTO = db_AMHTO.get(\"1a637b9baee74199b8027ffeb333279c\") \n",
    "AMHTO_jig_steel = db_AMHTO_jig_steel.get(\"1a637b9baee74199b8027ffeb333279c\") \n",
    "polishing = db_AMHTO.get(\"8fc93e48b98c4f7487ff73fef8362399_copy1\")\n",
    "anesthesia_gases = anesthesia.get(\"a00fcd60e79b42bd9f4868e509375673\")\n",
    "\n",
    "AMplate = db_AMHTO.get(\"51c97fc39fac4b0894237daa8cbd4781_copy1\")\n",
    "CMplate = db_CMHTO.get(\"5ea661dc6d384105afcf94cc88fb19f6_copy2\")\n",
    "\n",
    "\n",
    "methods = [('ReCiPe 2016 v1.03, midpoint (H)', 'climate change', 'global warming potential (GWP1000)')]"
   ]
  },
  {
   "cell_type": "code",
   "execution_count": 3,
   "id": "c66bb653",
   "metadata": {},
   "outputs": [
    {
     "data": {
      "text/plain": [
       "'1- Ti6Al4V production' (kilogram, GLO, None)"
      ]
     },
     "execution_count": 3,
     "metadata": {},
     "output_type": "execute_result"
    }
   ],
   "source": [
    "material.get(\"5153107d093942aa988fb2497e76ea87_copy1\")"
   ]
  },
  {
   "cell_type": "code",
   "execution_count": 4,
   "id": "d1d7095c",
   "metadata": {},
   "outputs": [],
   "source": [
    "CoCr =  material.get(\"08914bd137d643eb86c15648a647e32e_copy1\")\n",
    "Ti6Al4V_workpiece = material.get(\"ca1c1d7535114301918a4870a775bc76\")\n",
    "Ti6Al4V_powder = material.get(\"9f5be7543bec47cab0eefbe8257b9291_copy1\")\n",
    "stainless_steel = material.get(\"809c09c13b0e7129a79aabed4e9e2c08_copy1\")\n"
   ]
  },
  {
   "cell_type": "code",
   "execution_count": 5,
   "id": "7236fc9a-3775-4741-9746-a3c0e59e16d0",
   "metadata": {},
   "outputs": [],
   "source": [
    "from bw_helpers import sample_comparative_contribution, MyMonteCarloLCA, collect_contribution_samples\n",
    "from final_activities import final_activities, component_order"
   ]
  },
  {
   "cell_type": "code",
   "execution_count": 6,
   "id": "fb34d2de",
   "metadata": {},
   "outputs": [],
   "source": [
    "all_demands = {\n",
    "    \"CoCr\": CoCr,\n",
    "    \"Ti6Al4V_workpiece\": Ti6Al4V_workpiece,\n",
    "    \"Ti6Al4V_powder\": Ti6Al4V_powder,\n",
    "    \"stainless_steel\": stainless_steel\n",
    "}\n"
   ]
  },
  {
   "cell_type": "code",
   "execution_count": 7,
   "id": "c8f35686",
   "metadata": {},
   "outputs": [
    {
     "name": "stdout",
     "output_type": "stream",
     "text": [
      "CPU times: total: 12min 1s\n",
      "Wall time: 11min 15s\n"
     ]
    },
    {
     "data": {
      "text/html": [
       "<div>\n",
       "<style scoped>\n",
       "    .dataframe tbody tr th:only-of-type {\n",
       "        vertical-align: middle;\n",
       "    }\n",
       "\n",
       "    .dataframe tbody tr th {\n",
       "        vertical-align: top;\n",
       "    }\n",
       "\n",
       "    .dataframe thead th {\n",
       "        text-align: right;\n",
       "    }\n",
       "</style>\n",
       "<table border=\"1\" class=\"dataframe\">\n",
       "  <thead>\n",
       "    <tr style=\"text-align: right;\">\n",
       "      <th></th>\n",
       "      <th>material</th>\n",
       "      <th>score</th>\n",
       "    </tr>\n",
       "  </thead>\n",
       "  <tbody>\n",
       "    <tr>\n",
       "      <th>0</th>\n",
       "      <td>CoCr</td>\n",
       "      <td>31.146573</td>\n",
       "    </tr>\n",
       "    <tr>\n",
       "      <th>1</th>\n",
       "      <td>CoCr</td>\n",
       "      <td>30.738272</td>\n",
       "    </tr>\n",
       "    <tr>\n",
       "      <th>2</th>\n",
       "      <td>CoCr</td>\n",
       "      <td>32.550213</td>\n",
       "    </tr>\n",
       "    <tr>\n",
       "      <th>3</th>\n",
       "      <td>CoCr</td>\n",
       "      <td>31.936240</td>\n",
       "    </tr>\n",
       "    <tr>\n",
       "      <th>4</th>\n",
       "      <td>CoCr</td>\n",
       "      <td>32.701381</td>\n",
       "    </tr>\n",
       "    <tr>\n",
       "      <th>...</th>\n",
       "      <td>...</td>\n",
       "      <td>...</td>\n",
       "    </tr>\n",
       "    <tr>\n",
       "      <th>3995</th>\n",
       "      <td>stainless_steel</td>\n",
       "      <td>7.114017</td>\n",
       "    </tr>\n",
       "    <tr>\n",
       "      <th>3996</th>\n",
       "      <td>stainless_steel</td>\n",
       "      <td>5.689740</td>\n",
       "    </tr>\n",
       "    <tr>\n",
       "      <th>3997</th>\n",
       "      <td>stainless_steel</td>\n",
       "      <td>7.732278</td>\n",
       "    </tr>\n",
       "    <tr>\n",
       "      <th>3998</th>\n",
       "      <td>stainless_steel</td>\n",
       "      <td>4.434877</td>\n",
       "    </tr>\n",
       "    <tr>\n",
       "      <th>3999</th>\n",
       "      <td>stainless_steel</td>\n",
       "      <td>6.172925</td>\n",
       "    </tr>\n",
       "  </tbody>\n",
       "</table>\n",
       "<p>4000 rows × 2 columns</p>\n",
       "</div>"
      ],
      "text/plain": [
       "             material      score\n",
       "0                CoCr  31.146573\n",
       "1                CoCr  30.738272\n",
       "2                CoCr  32.550213\n",
       "3                CoCr  31.936240\n",
       "4                CoCr  32.701381\n",
       "...               ...        ...\n",
       "3995  stainless_steel   7.114017\n",
       "3996  stainless_steel   5.689740\n",
       "3997  stainless_steel   7.732278\n",
       "3998  stainless_steel   4.434877\n",
       "3999  stainless_steel   6.172925\n",
       "\n",
       "[4000 rows x 2 columns]"
      ]
     },
     "execution_count": 7,
     "metadata": {},
     "output_type": "execute_result"
    }
   ],
   "source": [
    "%%time\n",
    "data = []\n",
    "materials = []\n",
    "for method in methods:\n",
    "    for label, demand_dict in all_demands.items():\n",
    "        lca = bw.MonteCarloLCA({demand_dict: 1}, method)\n",
    "        results = np.array([next(lca) for _ in range(1000)])\n",
    "\n",
    "        data.extend(results)\n",
    "        materials.extend([label] * 1000)  \n",
    "        df = pd.DataFrame({\n",
    "            'material': materials,\n",
    "            'score': data\n",
    "        })\n",
    "\n",
    "df"
   ]
  },
  {
   "cell_type": "code",
   "execution_count": 11,
   "id": "a90785b0",
   "metadata": {},
   "outputs": [],
   "source": [
    "df.to_csv(\"results/metal_gwp.csv\", index=False)"
   ]
  },
  {
   "cell_type": "code",
   "execution_count": null,
   "id": "bb5d0b57",
   "metadata": {},
   "outputs": [],
   "source": []
  }
 ],
 "metadata": {
  "kernelspec": {
   "display_name": "ab",
   "language": "python",
   "name": "ab"
  },
  "language_info": {
   "codemirror_mode": {
    "name": "ipython",
    "version": 3
   },
   "file_extension": ".py",
   "mimetype": "text/x-python",
   "name": "python",
   "nbconvert_exporter": "python",
   "pygments_lexer": "ipython3",
   "version": "3.9.13"
  }
 },
 "nbformat": 4,
 "nbformat_minor": 5
}
