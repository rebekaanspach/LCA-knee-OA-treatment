{
 "cells": [
  {
   "cell_type": "markdown",
   "id": "b9b214af-7226-418b-a80d-6bcb4182b55e",
   "metadata": {},
   "source": [
    "# LCA contribution analysis\n",
    "\n",
    "This notebook does LCA calculations for all impact categories (but not including uncertainty), writing the results to `results/all_impact_category_contributions.csv`.  Results are calculated only for the baseline AM HTO and CM HTO.\n",
    "\n",
    "This uses a custom function to walk through the supply chain until specified activities are reached, to then report all impacts upstream of those activities. The reporting activities are imported from `final_activities.py`. Ideally this list will be complete, but if not, the algorithm will keep looking for somewhere to stop until a depth or cutoff limit is reached -- which might take longer than expected."
   ]
  },
  {
   "cell_type": "code",
   "execution_count": 1,
   "id": "8970c3ba",
   "metadata": {},
   "outputs": [],
   "source": [
    "import brightway2 as bw\n",
    "import numpy as np\n",
    "import pandas as pd\n",
    "import bw2calc as bc"
   ]
  },
  {
   "cell_type": "code",
   "execution_count": 2,
   "id": "148bda7e-2a48-416f-bee0-d114e60403fe",
   "metadata": {},
   "outputs": [],
   "source": [
    "from bw_helpers import recursive_calculation\n",
    "from final_activities import final_activities, component_order"
   ]
  },
  {
   "cell_type": "code",
   "execution_count": 3,
   "id": "c5eaf8e1",
   "metadata": {},
   "outputs": [
    {
     "name": "stdout",
     "output_type": "stream",
     "text": [
      "'Implantation' (unit, GB, None)\n",
      "'Implantation' (unit, GB, None)\n"
     ]
    }
   ],
   "source": [
    "# Load bw databases and activities\n",
    "bw.projects.set_current(\"default\")\n",
    "db_AMHTO = bw.Database('AM HTO')\n",
    "db_CMHTO = bw.Database('CM HTO')\n",
    "db_UKR = bw.Database('UKR')\n",
    "\n",
    "AMHTO = db_AMHTO.get(\"1a637b9baee74199b8027ffeb333279c\") \n",
    "CMHTO = db_CMHTO.get(\"2f3acaae6c4e4035b2d24c71725b17d8\")\n",
    "UKR = db_UKR.get(\"663ac4ef3d314e739f29ec63ea2ca399\")\n",
    "polishing = db_AMHTO.get(\"8fc93e48b98c4f7487ff73fef8362399_copy1\")\n",
    "\n",
    "\n",
    "print(AMHTO)\n",
    "print(CMHTO)\n",
    "\n",
    "my_methods = [\n",
    "     ('ReCiPe 2016 v1.03, midpoint (H)', 'acidification: terrestrial', 'terrestrial acidification potential (TAP)'),\n",
    "     ('ReCiPe 2016 v1.03, midpoint (H)', 'climate change', 'global warming potential (GWP1000)'), \n",
    "     ('ReCiPe 2016 v1.03, midpoint (H)', 'ecotoxicity: freshwater', 'freshwater ecotoxicity potential (FETP)'),\n",
    "     ('ReCiPe 2016 v1.03, midpoint (H)', 'ecotoxicity: marine', 'marine ecotoxicity potential (METP)'),\n",
    "     ('ReCiPe 2016 v1.03, midpoint (H)', 'ecotoxicity: terrestrial', 'terrestrial ecotoxicity potential (TETP)'),\n",
    "     ('ReCiPe 2016 v1.03, midpoint (H)', 'energy resources: non-renewable, fossil', 'fossil fuel potential (FFP)'),\n",
    "     ('ReCiPe 2016 v1.03, midpoint (H)', 'eutrophication: freshwater', 'freshwater eutrophication potential (FEP)'),\n",
    "     ('ReCiPe 2016 v1.03, midpoint (H)', 'eutrophication: marine', 'marine eutrophication potential (MEP)'),\n",
    "     ('ReCiPe 2016 v1.03, midpoint (H)', 'human toxicity: carcinogenic', 'human toxicity potential (HTPc)'),\n",
    "     ('ReCiPe 2016 v1.03, midpoint (H)', 'human toxicity: non-carcinogenic', 'human toxicity potential (HTPnc)'),\n",
    "     ('ReCiPe 2016 v1.03, midpoint (H)', 'ionising radiation', 'ionising radiation potential (IRP)'),\n",
    "     ('ReCiPe 2016 v1.03, midpoint (H)', 'land use', 'agricultural land occupation (LOP)'),\n",
    "     ('ReCiPe 2016 v1.03, midpoint (H)', 'material resources: metals/minerals', 'surplus ore potential (SOP)'),\n",
    "     ('ReCiPe 2016 v1.03, midpoint (H)', 'ozone depletion', 'ozone depletion potential (ODPinfinite)'),\n",
    "     ('ReCiPe 2016 v1.03, midpoint (H)', 'particulate matter formation', 'particulate matter formation potential (PMFP)'),\n",
    "     ('ReCiPe 2016 v1.03, midpoint (H)', 'photochemical oxidant formation: human health', 'photochemical oxidant formation potential: humans (HOFP)'),\n",
    "     ('ReCiPe 2016 v1.03, midpoint (H)', 'photochemical oxidant formation: terrestrial ecosystems', 'photochemical oxidant formation potential: ecosystems (EOFP)'),\n",
    "     ('ReCiPe 2016 v1.03, midpoint (H)', 'water use', 'water consumption potential (WCP)'),\n",
    "]"
   ]
  },
  {
   "cell_type": "code",
   "execution_count": 4,
   "id": "91d01aa2",
   "metadata": {},
   "outputs": [],
   "source": [
    "lca_obj = bc.LCA({UKR:1}, my_methods[1]) \n",
    "lca_obj.lci(factorize=True)\n",
    "lca_obj.lcia()\n"
   ]
  },
  {
   "cell_type": "code",
   "execution_count": 5,
   "id": "f93b6487",
   "metadata": {},
   "outputs": [
    {
     "data": {
      "text/plain": [
       "{'Implant (material)': 21.117147377603686,\n",
       " 'Implant (manufac.)': 4.826972154848034,\n",
       " 'Argon': 0.0010613074689159456,\n",
       " 'Instruments (material)': 0.6940001533891245,\n",
       " 'Instruments (manufac.)': 0.023099105513932287,\n",
       " 'Packaging': 0.3459041509388158,\n",
       " 'Sterilisation': 0.5901247271662406,\n",
       " 'Transport': 3.7972760049610144,\n",
       " 'Anesthesia': 3.6799758330688896}"
      ]
     },
     "execution_count": 5,
     "metadata": {},
     "output_type": "execute_result"
    }
   ],
   "source": [
    "from bw_helpers import ScoreGrouper\n",
    "grouper = ScoreGrouper(lca_obj) \n",
    "scores = grouper(final_activities) \n",
    "scores"
   ]
  },
  {
   "cell_type": "code",
   "execution_count": 2,
   "id": "7f1eaca9-6e32-484f-9b1e-3792f1ae559b",
   "metadata": {
    "scrolled": true
   },
   "outputs": [],
   "source": [
    "\n",
    "\n",
    "#AMHTO_contribs = [recursive_calculation(AMHTO, final_activities, m, max_level =8, cutoff=1e-8) for m in my_methods]\n",
    "#CMHTO_contribs = [recursive_calculation(CMHTO, final_activities, m,  max_level =8, cutoff=1e-8) for m in my_methods]\n",
    "#UKR_contribs = [recursive_calculation(UKR, final_activities, m, max_level= 8,cutoff=1e-8) for m in my_methods]\n",
    "#polishing_contribs = [recursive_calculation(polishing, final_activities, m, max_level =8, cutoff=1e-4) for m in my_methods]\n"
   ]
  },
  {
   "cell_type": "code",
   "execution_count": 7,
   "id": "0affef1e-5e41-4620-93ba-ebb75c95948e",
   "metadata": {},
   "outputs": [],
   "source": [
    "def melt_contribs(contribs, label):\n",
    "    df = (\n",
    "        pd.DataFrame(contribs, index=[label for _, label, _ in my_methods])\n",
    "            [component_order]\n",
    "            .reset_index(names=\"method\")\n",
    "            .melt(id_vars=[\"method\"], var_name=\"component\", value_name=\"score\")\n",
    "    )\n",
    "    df[\"device\"] = label\n",
    "    return df.fillna(0)"
   ]
  },
  {
   "cell_type": "code",
   "execution_count": 8,
   "id": "1fa8d769-4846-423c-b350-a8963f5bf95c",
   "metadata": {},
   "outputs": [
    {
     "data": {
      "text/html": [
       "<div>\n",
       "<style scoped>\n",
       "    .dataframe tbody tr th:only-of-type {\n",
       "        vertical-align: middle;\n",
       "    }\n",
       "\n",
       "    .dataframe tbody tr th {\n",
       "        vertical-align: top;\n",
       "    }\n",
       "\n",
       "    .dataframe thead th {\n",
       "        text-align: right;\n",
       "    }\n",
       "</style>\n",
       "<table border=\"1\" class=\"dataframe\">\n",
       "  <thead>\n",
       "    <tr style=\"text-align: right;\">\n",
       "      <th></th>\n",
       "      <th>method</th>\n",
       "      <th>component</th>\n",
       "      <th>score</th>\n",
       "      <th>device</th>\n",
       "      <th>normalised_score</th>\n",
       "    </tr>\n",
       "  </thead>\n",
       "  <tbody>\n",
       "    <tr>\n",
       "      <th>0</th>\n",
       "      <td>acidification: terrestrial</td>\n",
       "      <td>Implant (material)</td>\n",
       "      <td>1.566226e-02</td>\n",
       "      <td>CM HTO</td>\n",
       "      <td>0.665716</td>\n",
       "    </tr>\n",
       "    <tr>\n",
       "      <th>1</th>\n",
       "      <td>climate change</td>\n",
       "      <td>Implant (material)</td>\n",
       "      <td>4.008664e+00</td>\n",
       "      <td>CM HTO</td>\n",
       "      <td>0.392109</td>\n",
       "    </tr>\n",
       "    <tr>\n",
       "      <th>2</th>\n",
       "      <td>ecotoxicity: freshwater</td>\n",
       "      <td>Implant (material)</td>\n",
       "      <td>3.246248e-01</td>\n",
       "      <td>CM HTO</td>\n",
       "      <td>0.733401</td>\n",
       "    </tr>\n",
       "    <tr>\n",
       "      <th>3</th>\n",
       "      <td>ecotoxicity: marine</td>\n",
       "      <td>Implant (material)</td>\n",
       "      <td>4.535347e-01</td>\n",
       "      <td>CM HTO</td>\n",
       "      <td>0.735515</td>\n",
       "    </tr>\n",
       "    <tr>\n",
       "      <th>4</th>\n",
       "      <td>ecotoxicity: terrestrial</td>\n",
       "      <td>Implant (material)</td>\n",
       "      <td>7.366651e+00</td>\n",
       "      <td>CM HTO</td>\n",
       "      <td>0.229259</td>\n",
       "    </tr>\n",
       "    <tr>\n",
       "      <th>...</th>\n",
       "      <td>...</td>\n",
       "      <td>...</td>\n",
       "      <td>...</td>\n",
       "      <td>...</td>\n",
       "      <td>...</td>\n",
       "    </tr>\n",
       "    <tr>\n",
       "      <th>481</th>\n",
       "      <td>ozone depletion</td>\n",
       "      <td>Anesthesia</td>\n",
       "      <td>3.336679e-07</td>\n",
       "      <td>UKR</td>\n",
       "      <td>0.119345</td>\n",
       "    </tr>\n",
       "    <tr>\n",
       "      <th>482</th>\n",
       "      <td>particulate matter formation</td>\n",
       "      <td>Anesthesia</td>\n",
       "      <td>4.134676e-04</td>\n",
       "      <td>UKR</td>\n",
       "      <td>0.036075</td>\n",
       "    </tr>\n",
       "    <tr>\n",
       "      <th>483</th>\n",
       "      <td>photochemical oxidant formation: human health</td>\n",
       "      <td>Anesthesia</td>\n",
       "      <td>1.025534e-03</td>\n",
       "      <td>UKR</td>\n",
       "      <td>0.059342</td>\n",
       "    </tr>\n",
       "    <tr>\n",
       "      <th>484</th>\n",
       "      <td>photochemical oxidant formation: terrestrial e...</td>\n",
       "      <td>Anesthesia</td>\n",
       "      <td>1.035459e-03</td>\n",
       "      <td>UKR</td>\n",
       "      <td>0.059117</td>\n",
       "    </tr>\n",
       "    <tr>\n",
       "      <th>485</th>\n",
       "      <td>water use</td>\n",
       "      <td>Anesthesia</td>\n",
       "      <td>2.856913e-03</td>\n",
       "      <td>UKR</td>\n",
       "      <td>0.056041</td>\n",
       "    </tr>\n",
       "  </tbody>\n",
       "</table>\n",
       "<p>486 rows × 5 columns</p>\n",
       "</div>"
      ],
      "text/plain": [
       "                                                method           component  \\\n",
       "0                           acidification: terrestrial  Implant (material)   \n",
       "1                                       climate change  Implant (material)   \n",
       "2                              ecotoxicity: freshwater  Implant (material)   \n",
       "3                                  ecotoxicity: marine  Implant (material)   \n",
       "4                             ecotoxicity: terrestrial  Implant (material)   \n",
       "..                                                 ...                 ...   \n",
       "481                                    ozone depletion          Anesthesia   \n",
       "482                       particulate matter formation          Anesthesia   \n",
       "483      photochemical oxidant formation: human health          Anesthesia   \n",
       "484  photochemical oxidant formation: terrestrial e...          Anesthesia   \n",
       "485                                          water use          Anesthesia   \n",
       "\n",
       "            score  device  normalised_score  \n",
       "0    1.566226e-02  CM HTO          0.665716  \n",
       "1    4.008664e+00  CM HTO          0.392109  \n",
       "2    3.246248e-01  CM HTO          0.733401  \n",
       "3    4.535347e-01  CM HTO          0.735515  \n",
       "4    7.366651e+00  CM HTO          0.229259  \n",
       "..            ...     ...               ...  \n",
       "481  3.336679e-07     UKR          0.119345  \n",
       "482  4.134676e-04     UKR          0.036075  \n",
       "483  1.025534e-03     UKR          0.059342  \n",
       "484  1.035459e-03     UKR          0.059117  \n",
       "485  2.856913e-03     UKR          0.056041  \n",
       "\n",
       "[486 rows x 5 columns]"
      ]
     },
     "execution_count": 8,
     "metadata": {},
     "output_type": "execute_result"
    }
   ],
   "source": [
    "contribs = pd.concat([\n",
    "    melt_contribs(CMHTO_contribs, \"CM HTO\"),\n",
    "    melt_contribs(AMHTO_contribs, \"AM HTO\"),\n",
    "    melt_contribs(UKR_contribs, \"UKR\"),\n",
    "], ignore_index=True)\n",
    "\n",
    "method_ref_scores = contribs.query(\"device == 'CM HTO'\").groupby(\"method\")[\"score\"].sum()\n",
    "\n",
    "# Normalise\n",
    "contribs[\"normalised_score\"] = contribs.apply(lambda row: row[\"score\"] / method_ref_scores.loc[row[\"method\"]], axis=1)\n",
    "\n",
    "contribs"
   ]
  },
  {
   "cell_type": "code",
   "execution_count": 10,
   "id": "66b2b26e",
   "metadata": {},
   "outputs": [
    {
     "name": "stderr",
     "output_type": "stream",
     "text": [
      "A subdirectory or file -p already exists.\n",
      "Error occurred while processing: -p.\n",
      "A subdirectory or file results already exists.\n",
      "Error occurred while processing: results.\n"
     ]
    }
   ],
   "source": [
    "!mkdir -p results\n",
    "contribs.to_csv(\"results/all_impact_category_contributions.csv\", index=False)"
   ]
  },
  {
   "cell_type": "code",
   "execution_count": null,
   "id": "a4ca0f52",
   "metadata": {},
   "outputs": [],
   "source": []
  },
  {
   "cell_type": "code",
   "execution_count": null,
   "id": "eedfa063",
   "metadata": {},
   "outputs": [],
   "source": []
  }
 ],
 "metadata": {
  "kernelspec": {
   "display_name": "ab",
   "language": "python",
   "name": "ab"
  },
  "language_info": {
   "codemirror_mode": {
    "name": "ipython",
    "version": 3
   },
   "file_extension": ".py",
   "mimetype": "text/x-python",
   "name": "python",
   "nbconvert_exporter": "python",
   "pygments_lexer": "ipython3",
   "version": "3.9.13"
  }
 },
 "nbformat": 4,
 "nbformat_minor": 5
}
