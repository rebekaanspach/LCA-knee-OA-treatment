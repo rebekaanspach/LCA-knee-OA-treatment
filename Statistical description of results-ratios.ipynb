{
 "cells": [
  {
   "cell_type": "markdown",
   "id": "8cc0329d",
   "metadata": {},
   "source": [
    "# Calculating medians, percentiles and interquartile ranges for ratios\n",
    "\n",
    "This notebook loads `results/relative_gwp_contributions.csv` and calculates medians, percentiles and interquartile ranges for total ratio scores (CM HTO= 1). \n",
    "\n",
    "The resulting table is saved to `results/stats_totals_ratios.csv`."
   ]
  },
  {
   "cell_type": "code",
   "execution_count": 4,
   "id": "8970c3ba",
   "metadata": {},
   "outputs": [],
   "source": [
    "import brightway2 as bw\n",
    "import bw2calc as bc\n",
    "import bw2data as bd\n",
    "import numpy as np\n",
    "import pandas as pd\n",
    "import presamples as ps\n",
    "import arviz as az"
   ]
  },
  {
   "cell_type": "code",
   "execution_count": 5,
   "id": "cb32fb52",
   "metadata": {},
   "outputs": [],
   "source": [
    "samples_combined = pd.read_csv(\"results/relative_gwp_contributions.csv\")"
   ]
  },
  {
   "cell_type": "markdown",
   "id": "c40d261b",
   "metadata": {},
   "source": [
    "## Total GWPs statistical analysis"
   ]
  },
  {
   "cell_type": "code",
   "execution_count": 6,
   "id": "dd7e8330-e277-451a-b899-e29a7f347c26",
   "metadata": {},
   "outputs": [],
   "source": [
    "total = samples_combined.groupby(['scenario', 'energy_scenario','iteration'])['score'].sum().reset_index()"
   ]
  },
  {
   "cell_type": "code",
   "execution_count": 7,
   "id": "51248cb3",
   "metadata": {},
   "outputs": [
    {
     "name": "stderr",
     "output_type": "stream",
     "text": [
      "C:\\Users\\rla44\\AppData\\Local\\Temp\\ipykernel_17356\\1262251596.py:16: DeprecationWarning: DataFrameGroupBy.apply operated on the grouping columns. This behavior is deprecated, and in a future version of pandas the grouping columns will be excluded from the operation. Either pass `include_groups=False` to exclude the groupings or explicitly select the grouping columns after groupby to silence this warning.\n",
      "  stats_totals = grouped.apply(calculate_percentiles_and_iqr).reset_index()\n"
     ]
    },
    {
     "data": {
      "text/html": [
       "<div>\n",
       "<style scoped>\n",
       "    .dataframe tbody tr th:only-of-type {\n",
       "        vertical-align: middle;\n",
       "    }\n",
       "\n",
       "    .dataframe tbody tr th {\n",
       "        vertical-align: top;\n",
       "    }\n",
       "\n",
       "    .dataframe thead th {\n",
       "        text-align: right;\n",
       "    }\n",
       "</style>\n",
       "<table border=\"1\" class=\"dataframe\">\n",
       "  <thead>\n",
       "    <tr style=\"text-align: right;\">\n",
       "      <th></th>\n",
       "      <th>scenario</th>\n",
       "      <th>energy_scenario</th>\n",
       "      <th>mean</th>\n",
       "      <th>median</th>\n",
       "      <th>minimum</th>\n",
       "      <th>maximum</th>\n",
       "      <th>25th Percentile</th>\n",
       "      <th>75th Percentile</th>\n",
       "      <th>IQR</th>\n",
       "      <th>hdi_90_lower</th>\n",
       "      <th>hdi_90_upper</th>\n",
       "    </tr>\n",
       "  </thead>\n",
       "  <tbody>\n",
       "    <tr>\n",
       "      <th>0</th>\n",
       "      <td>AM HTO</td>\n",
       "      <td>Current</td>\n",
       "      <td>1.229616</td>\n",
       "      <td>1.216593</td>\n",
       "      <td>0.947870</td>\n",
       "      <td>1.747044</td>\n",
       "      <td>1.139916</td>\n",
       "      <td>1.309603</td>\n",
       "      <td>0.169687</td>\n",
       "      <td>1.030950</td>\n",
       "      <td>1.416335</td>\n",
       "    </tr>\n",
       "    <tr>\n",
       "      <th>1</th>\n",
       "      <td>AM HTO</td>\n",
       "      <td>Greener</td>\n",
       "      <td>0.960112</td>\n",
       "      <td>0.953411</td>\n",
       "      <td>0.683905</td>\n",
       "      <td>1.583404</td>\n",
       "      <td>0.881093</td>\n",
       "      <td>1.030259</td>\n",
       "      <td>0.149166</td>\n",
       "      <td>0.789210</td>\n",
       "      <td>1.128263</td>\n",
       "    </tr>\n",
       "    <tr>\n",
       "      <th>2</th>\n",
       "      <td>AM HTO (steel jig)</td>\n",
       "      <td>Current</td>\n",
       "      <td>1.094752</td>\n",
       "      <td>1.083453</td>\n",
       "      <td>0.845856</td>\n",
       "      <td>1.603272</td>\n",
       "      <td>1.011423</td>\n",
       "      <td>1.168723</td>\n",
       "      <td>0.157300</td>\n",
       "      <td>0.917425</td>\n",
       "      <td>1.274347</td>\n",
       "    </tr>\n",
       "    <tr>\n",
       "      <th>3</th>\n",
       "      <td>AM HTO (steel jig)</td>\n",
       "      <td>Greener</td>\n",
       "      <td>0.759094</td>\n",
       "      <td>0.749171</td>\n",
       "      <td>0.538181</td>\n",
       "      <td>1.304382</td>\n",
       "      <td>0.693541</td>\n",
       "      <td>0.819717</td>\n",
       "      <td>0.126176</td>\n",
       "      <td>0.617000</td>\n",
       "      <td>0.894136</td>\n",
       "    </tr>\n",
       "    <tr>\n",
       "      <th>4</th>\n",
       "      <td>CM HTO</td>\n",
       "      <td>Current</td>\n",
       "      <td>1.000000</td>\n",
       "      <td>1.000000</td>\n",
       "      <td>1.000000</td>\n",
       "      <td>1.000000</td>\n",
       "      <td>1.000000</td>\n",
       "      <td>1.000000</td>\n",
       "      <td>0.000000</td>\n",
       "      <td>1.000000</td>\n",
       "      <td>1.000000</td>\n",
       "    </tr>\n",
       "    <tr>\n",
       "      <th>5</th>\n",
       "      <td>UKR</td>\n",
       "      <td>Current</td>\n",
       "      <td>3.531368</td>\n",
       "      <td>3.502657</td>\n",
       "      <td>2.744740</td>\n",
       "      <td>4.606994</td>\n",
       "      <td>3.273459</td>\n",
       "      <td>3.769835</td>\n",
       "      <td>0.496376</td>\n",
       "      <td>3.042795</td>\n",
       "      <td>4.046183</td>\n",
       "    </tr>\n",
       "  </tbody>\n",
       "</table>\n",
       "</div>"
      ],
      "text/plain": [
       "             scenario energy_scenario      mean    median   minimum   maximum  \\\n",
       "0              AM HTO         Current  1.229616  1.216593  0.947870  1.747044   \n",
       "1              AM HTO         Greener  0.960112  0.953411  0.683905  1.583404   \n",
       "2  AM HTO (steel jig)         Current  1.094752  1.083453  0.845856  1.603272   \n",
       "3  AM HTO (steel jig)         Greener  0.759094  0.749171  0.538181  1.304382   \n",
       "4              CM HTO         Current  1.000000  1.000000  1.000000  1.000000   \n",
       "5                 UKR         Current  3.531368  3.502657  2.744740  4.606994   \n",
       "\n",
       "   25th Percentile  75th Percentile       IQR  hdi_90_lower  hdi_90_upper  \n",
       "0         1.139916         1.309603  0.169687      1.030950      1.416335  \n",
       "1         0.881093         1.030259  0.149166      0.789210      1.128263  \n",
       "2         1.011423         1.168723  0.157300      0.917425      1.274347  \n",
       "3         0.693541         0.819717  0.126176      0.617000      0.894136  \n",
       "4         1.000000         1.000000  0.000000      1.000000      1.000000  \n",
       "5         3.273459         3.769835  0.496376      3.042795      4.046183  "
      ]
     },
     "execution_count": 7,
     "metadata": {},
     "output_type": "execute_result"
    }
   ],
   "source": [
    "grouped = total.groupby(['scenario', 'energy_scenario'])\n",
    "\n",
    "def calculate_percentiles_and_iqr(group):\n",
    "    mean = group['score'].mean()\n",
    "    median = group['score'].median()\n",
    "    minimum = group['score'].min()\n",
    "    maximum = group['score'].max()\n",
    "    q25 = group['score'].quantile(0.25)\n",
    "    q75 = group['score'].quantile(0.75)\n",
    "    iqr = q75 - q25\n",
    "    hdi_90 = az.hdi(group['score'].to_numpy(), hdi_prob=.9)\n",
    "    hdi_90_lower = hdi_90[0]\n",
    "    hdi_90_upper = hdi_90[1]\n",
    "    return pd.Series({'mean': mean, 'median': median, 'minimum': minimum, 'maximum': maximum, '25th Percentile': q25, '75th Percentile': q75, 'IQR': iqr, 'hdi_90_lower': hdi_90_lower,'hdi_90_upper': hdi_90_upper})\n",
    "\n",
    "stats_totals = grouped.apply(calculate_percentiles_and_iqr).reset_index()\n",
    "stats_totals"
   ]
  },
  {
   "cell_type": "code",
   "execution_count": 10,
   "id": "afd2dfab",
   "metadata": {},
   "outputs": [],
   "source": [
    "stats_totals.to_csv(\"results/stats_totals_ratios.csv\", index=False)"
   ]
  },
  {
   "cell_type": "code",
   "execution_count": 9,
   "id": "98e4ec78",
   "metadata": {},
   "outputs": [],
   "source": [
    "#def calculate_percentiles(series, mean_score, lower_percentile, upper_percentile):\n",
    "#    adjusted_series = series - mean_score\n",
    "#    lower_value = np.percentile(adjusted_series, lower_percentile)\n",
    "#    upper_value = np.percentile(adjusted_series, upper_percentile)\n",
    "#    return lower_value, upper_value\n",
    "\n",
    "#percentiles = (\n",
    "#    total\n",
    "#    .groupby(['scenario', 'energy_scenario'])\n",
    "#    .apply(lambda x: calculate_percentiles(x['score'], \n",
    "#                                           mean_scores.loc[(mean_scores['scenario'] == x.name[0]) & \n",
    "#                                                           (mean_scores['energy_scenario'] == x.name[1]), 'mean_score'].values[0],\n",
    "#                                           2.5, 97.5))\n",
    "#    .reset_index()\n",
    "#)\n",
    "#percentiles[['2.5th_percentile', '97.5th_percentile']] = pd.DataFrame(percentiles[0].tolist(), index=percentiles.index)\n",
    "#percentiles.drop(columns=[0], inplace=True)\n",
    "#percentiles"
   ]
  },
  {
   "cell_type": "code",
   "execution_count": null,
   "id": "d21543cf",
   "metadata": {},
   "outputs": [],
   "source": []
  }
 ],
 "metadata": {
  "kernelspec": {
   "display_name": "ab",
   "language": "python",
   "name": "ab"
  },
  "language_info": {
   "codemirror_mode": {
    "name": "ipython",
    "version": 3
   },
   "file_extension": ".py",
   "mimetype": "text/x-python",
   "name": "python",
   "nbconvert_exporter": "python",
   "pygments_lexer": "ipython3",
   "version": "3.9.13"
  }
 },
 "nbformat": 4,
 "nbformat_minor": 5
}
