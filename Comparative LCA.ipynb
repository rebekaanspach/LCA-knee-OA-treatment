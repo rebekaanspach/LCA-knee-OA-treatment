{
 "cells": [
  {
   "cell_type": "markdown",
   "id": "bdd0395f-faf3-4065-8ecc-7e037bbc322b",
   "metadata": {},
   "source": [
    "# Comparative LCA and Monte Carlo\n",
    "\n",
    "This notebook does Monte Carlo comparative LCA calculations, for GWP only, writing the results to `results/samples_comparative_gwp_contributions.csv`.\n",
    "\n",
    "Results are calculated for UKR, CM HTO, AM HTO (Ti jig) and AM HTO (steel jig).  In addition, \"low carbon electricity\" scenarios are defined which are relevant to the AM HTO cases.\n",
    "\n",
    "Contribution analysis is integrated into the Monte Carlo runs: for each sample, additional calculations are performed to separate the overall impact score into contributions from different sub-chains of the process chain (see `Contribution analysis.ipynb` notebook).  This allows us to see more clearly what's changing between the Monte Carlo samples and the different scenarios."
   ]
  },
  {
   "cell_type": "code",
   "execution_count": 1,
   "id": "8970c3ba",
   "metadata": {},
   "outputs": [],
   "source": [
    "import brightway2 as bw\n",
    "import bw2calc as bc\n",
    "import bw2data as bd\n",
    "import numpy as np\n",
    "import pandas as pd\n",
    "import presamples as ps"
   ]
  },
  {
   "cell_type": "code",
   "execution_count": 2,
   "id": "c5eaf8e1",
   "metadata": {},
   "outputs": [],
   "source": [
    "# Generate objects for analysis\n",
    "\n",
    "bw.projects.set_current(\"default\")\n",
    "\n",
    "db_UKR = bw.Database('UKR')\n",
    "db_AMHTO_jig_steel = bw.Database('AM HTO- jig steel')\n",
    "db_AMHTO = bw.Database('AM HTO')\n",
    "db_CMHTO = bw.Database('CM HTO')\n",
    "cutoff38 = bw.Database('cutoff38')\n",
    "electricity = bw.Database('Electricity')\n",
    "anesthesia = bw.Database('Anesthesia')\n",
    "material = bw.Database('Raw materials')\n",
    "\n",
    "# This contain the whole life-cycle impact of the AM and CM HTO\n",
    "UKR = db_UKR.get('663ac4ef3d314e739f29ec63ea2ca399')\n",
    "CMHTO = db_CMHTO.get(\"2f3acaae6c4e4035b2d24c71725b17d8\")\n",
    "AMHTO = db_AMHTO.get(\"1a637b9baee74199b8027ffeb333279c\") \n",
    "AMHTO_jig_steel = db_AMHTO_jig_steel.get(\"1a637b9baee74199b8027ffeb333279c\") \n",
    "polishing = db_AMHTO.get(\"8fc93e48b98c4f7487ff73fef8362399_copy1\")\n",
    "anesthesia_gases = anesthesia.get(\"a00fcd60e79b42bd9f4868e509375673\")\n",
    "\n",
    "all_demands = [{UKR: 1}, {CMHTO: 1}, {AMHTO: 1}, {AMHTO_jig_steel: 1}]\n",
    "\n",
    "#all_demands = [ {CMHTO: 1}]\n",
    "#all_demands = [{CMHTO: 1}]\n",
    "lce_demands = [{AMHTO: 1}, {AMHTO_jig_steel: 1}]\n",
    "d_label = [\"UKR\", \"CM HTO\", \"AM HTO\", \"AM HTO (steel jig)\"]\n",
    "\n",
    "\n",
    "method = ('ReCiPe 2016 v1.03, midpoint (H)', 'climate change', 'global warming potential (GWP1000)')"
   ]
  },
  {
   "cell_type": "code",
   "execution_count": 3,
   "id": "f184c4f6",
   "metadata": {},
   "outputs": [
    {
     "data": {
      "text/plain": [
       "('ReCiPe Midpoint (H) V1.13', 'climate change', 'GWP100')"
      ]
     },
     "execution_count": 3,
     "metadata": {},
     "output_type": "execute_result"
    }
   ],
   "source": [
    "method"
   ]
  },
  {
   "cell_type": "code",
   "execution_count": 4,
   "id": "af28a9db",
   "metadata": {},
   "outputs": [],
   "source": [
    "num_samples = 1000\n",
    "max_level=10\n",
    "cutoff =1e-6"
   ]
  },
  {
   "cell_type": "code",
   "execution_count": 5,
   "id": "c66bb653",
   "metadata": {},
   "outputs": [
    {
     "data": {
      "text/plain": [
       "'1- Ti6Al4V production' (kilogram, GLO, None)"
      ]
     },
     "execution_count": 5,
     "metadata": {},
     "output_type": "execute_result"
    }
   ],
   "source": [
    "material.get(\"5153107d093942aa988fb2497e76ea87_copy1\")"
   ]
  },
  {
   "cell_type": "code",
   "execution_count": 6,
   "id": "d2efca9b",
   "metadata": {},
   "outputs": [
    {
     "data": {
      "text/plain": [
       "'Implantation' (unit, GB, None)"
      ]
     },
     "execution_count": 6,
     "metadata": {},
     "output_type": "execute_result"
    }
   ],
   "source": [
    "CMHTO"
   ]
  },
  {
   "cell_type": "markdown",
   "id": "e317f5bc",
   "metadata": {},
   "source": [
    "## Presamples for electricity inputs\n",
    "\n",
    "Goal is to replace the values for the inputs to {SLM, polishing} with electricity from {GB, CH}. \n",
    "\n",
    "There is no harm in overwriting the inputs to processes that are not actually being used in each scenario (e.g. no problem to also swap the inputs to the steel SLM for instruments, even when in the scenario that they are not used)."
   ]
  },
  {
   "cell_type": "code",
   "execution_count": 7,
   "id": "c4c99e25",
   "metadata": {},
   "outputs": [],
   "source": [
    "def samples_to_swap_inputs(processes_to_swap, swaps):\n",
    "    data = []\n",
    "    indices = []\n",
    "    for process in processes_to_swap:\n",
    "        for swap in swaps:\n",
    "            new_exchange = swap[\"new_exchange\"]\n",
    "            new_value = swap[\"new_value\"](process) \n",
    "            indices_to_include = (new_exchange, process, \"technosphere\")\n",
    "            \n",
    "            indices.append(indices_to_include)\n",
    "            data.append(new_value)\n",
    "\n",
    "\n",
    "    return np.array(data), indices\n"
   ]
  },
  {
   "cell_type": "code",
   "execution_count": 8,
   "id": "e3ce89c6",
   "metadata": {},
   "outputs": [],
   "source": [
    "def get_elec_input(process, elec):\n",
    "    for exchange in process.technosphere():\n",
    "        if exchange.input == elec:\n",
    "            return exchange \n",
    "\n",
    "    raise RuntimeError(\"not found\")"
   ]
  },
  {
   "cell_type": "code",
   "execution_count": 9,
   "id": "15031429",
   "metadata": {},
   "outputs": [
    {
     "data": {
      "text/plain": [
       "'2- Polishing' (hour, GB, None)"
      ]
     },
     "execution_count": 9,
     "metadata": {},
     "output_type": "execute_result"
    }
   ],
   "source": [
    "elec_CH = electricity.get(\"f115d3e7dd5f261c41b6f41a7b5df4ff_copy1\")\n",
    "elec_GB = electricity.get(\"826d168b2214847a40d2707229194e67_copy1\")\n",
    "elec_CH_instruments = electricity.get(\"f115d3e7dd5f261c41b6f41a7b5df4ff_copy2\")\n",
    "elec_GB_instruments = electricity.get(\"826d168b2214847a40d2707229194e67_copy2\")\n",
    "a = db_AMHTO.get(\"8fc93e48b98c4f7487ff73fef8362399_copy1\")\n",
    "a"
   ]
  },
  {
   "cell_type": "code",
   "execution_count": 10,
   "id": "fb901cf7",
   "metadata": {},
   "outputs": [],
   "source": [
    "data1, indices1 = samples_to_swap_inputs(\n",
    "    processes_to_swap=[\n",
    "        # Ti instruments: electricity to SLM and to polishing (fpr plate and insturments separetely)\n",
    "        db_AMHTO.get(\"fa8649e486f344bdaf9e06ce1df2699a_copy5\"), #SLM service- main parts   \n",
    "        db_AMHTO.get(\"8fc93e48b98c4f7487ff73fef8362399_copy1\"), #polishing\n",
    "        db_AMHTO.get(\"fa8649e486f344bdaf9e06ce1df2699a_copy7\"), #SLM service warm up and cool down\n",
    "        \n",
    "    ],\n",
    "    swaps=[\n",
    "        {\"new_exchange\": elec_CH, \"new_value\": lambda process: get_elec_input(process, elec_GB).random_sample(n=num_samples)},\n",
    "        {\"new_exchange\": elec_GB, \"new_value\": lambda process: np.zeros(num_samples)},\n",
    "    ]\n",
    ")\n"
   ]
  },
  {
   "cell_type": "code",
   "execution_count": 11,
   "id": "4dd7f5bd",
   "metadata": {},
   "outputs": [
    {
     "data": {
      "text/plain": [
       "[(array([[19.40680294, 15.44076139, 22.4194094 , ..., 23.49482524,\n",
       "          19.25291418, 18.10874976],\n",
       "         [ 0.        ,  0.        ,  0.        , ...,  0.        ,\n",
       "           0.        ,  0.        ],\n",
       "         [ 2.149938  ,  1.57180061,  1.72356704, ...,  1.72603064,\n",
       "           1.2513517 ,  1.13211372],\n",
       "         ...,\n",
       "         [ 0.        ,  0.        ,  0.        , ...,  0.        ,\n",
       "           0.        ,  0.        ],\n",
       "         [ 2.0829049 ,  2.07473153,  2.04740799, ...,  2.09161225,\n",
       "           2.06062636,  2.00128746],\n",
       "         [ 0.        ,  0.        ,  0.        , ...,  0.        ,\n",
       "           0.        ,  0.        ]]),\n",
       "  [('market for electricity, medium voltage, machining' (kilowatt hour, CH, None),\n",
       "    '2- SLM service per material added ' (kilogram, GB, None),\n",
       "    'technosphere'),\n",
       "   ('market for electricity, medium voltage, machining' (kilowatt hour, GB, None),\n",
       "    '2- SLM service per material added ' (kilogram, GB, None),\n",
       "    'technosphere'),\n",
       "   ('market for electricity, medium voltage, machining' (kilowatt hour, CH, None),\n",
       "    '2- Polishing' (hour, GB, None),\n",
       "    'technosphere'),\n",
       "   ('market for electricity, medium voltage, machining' (kilowatt hour, GB, None),\n",
       "    '2- Polishing' (hour, GB, None),\n",
       "    'technosphere'),\n",
       "   ('market for electricity, medium voltage, machining' (kilowatt hour, CH, None),\n",
       "    '2- SLM warm up and cool down' (run, GB, None),\n",
       "    'technosphere'),\n",
       "   ('market for electricity, medium voltage, machining' (kilowatt hour, GB, None),\n",
       "    '2- SLM warm up and cool down' (run, GB, None),\n",
       "    'technosphere'),\n",
       "   ('market for electricity, medium voltage, machining instruments' (kilowatt hour, CH, None),\n",
       "    '2- SLM service per material added instruments' (kilogram, GB, None),\n",
       "    'technosphere'),\n",
       "   ('market for electricity, medium voltage, machining instruments' (kilowatt hour, GB, None),\n",
       "    '2- SLM service per material added instruments' (kilogram, GB, None),\n",
       "    'technosphere'),\n",
       "   ('market for electricity, medium voltage, machining instruments' (kilowatt hour, CH, None),\n",
       "    '2- Polishing instruments ' (hour, GB, None),\n",
       "    'technosphere'),\n",
       "   ('market for electricity, medium voltage, machining instruments' (kilowatt hour, GB, None),\n",
       "    '2- Polishing instruments ' (hour, GB, None),\n",
       "    'technosphere'),\n",
       "   ('market for electricity, medium voltage, machining instruments' (kilowatt hour, CH, None),\n",
       "    '2- SLM- service for steel' (kilogram, GB, None),\n",
       "    'technosphere'),\n",
       "   ('market for electricity, medium voltage, machining instruments' (kilowatt hour, GB, None),\n",
       "    '2- SLM- service for steel' (kilogram, GB, None),\n",
       "    'technosphere'),\n",
       "   ('market for electricity, medium voltage, machining instruments' (kilowatt hour, CH, None),\n",
       "    '2- SLM warm up and cool down- instruments' (run, GB, None),\n",
       "    'technosphere'),\n",
       "   ('market for electricity, medium voltage, machining instruments' (kilowatt hour, GB, None),\n",
       "    '2- SLM warm up and cool down- instruments' (run, GB, None),\n",
       "    'technosphere')],\n",
       "  'technosphere')]"
      ]
     },
     "execution_count": 11,
     "metadata": {},
     "output_type": "execute_result"
    }
   ],
   "source": [
    "data2, indices2 = samples_to_swap_inputs(\n",
    "     processes_to_swap=[\n",
    "        # Ti instruments: electricity to SLM and to polishing (fpr plate and insturments separetely)\n",
    "        db_AMHTO.get(\"fa8649e486f344bdaf9e06ce1df2699a\"), #SLM service- instruments\n",
    "        db_AMHTO.get(\"8fc93e48b98c4f7487ff73fef8362399_copy2\"), #polishing\n",
    "        db_AMHTO_jig_steel.get(\"fa8649e486f344bdaf9e06ce1df2699a\"),   #SLM service- steel instruments\n",
    "        db_AMHTO.get(\"fa8649e486f344bdaf9e06ce1df2699a_copy8\"), #SLM service warm up and cool down\n",
    "    ],\n",
    "    \n",
    "    swaps=[\n",
    "        {\"new_exchange\": elec_CH_instruments, \"new_value\": lambda process: get_elec_input(process, elec_GB_instruments).random_sample(n=num_samples)},\n",
    "        {\"new_exchange\": elec_GB_instruments, \"new_value\": lambda process: np.zeros(num_samples)},\n",
    "    ]\n",
    ")\n",
    "data_combined = np.vstack((data1, data2))\n",
    "indices_combined = indices1 + indices2 \n",
    "\n",
    "low_carbon_electricity_matrix_data = [\n",
    "    (data_combined, indices_combined, 'technosphere')]\n",
    "\n",
    "low_carbon_electricity_matrix_data"
   ]
  },
  {
   "cell_type": "markdown",
   "id": "6fa7c767-9f65-4b2c-8045-ab9aa2c4ff33",
   "metadata": {},
   "source": [
    "Now define the values for these. The first of each pair will be set to the random samples, the second (GB) will be set to zero -- this is the opposite of how the processes are initially defined:"
   ]
  },
  {
   "cell_type": "markdown",
   "id": "038b9e77-0e5c-4840-be71-25858e98e337",
   "metadata": {},
   "source": [
    "It's the same for SLM and polishing:"
   ]
  },
  {
   "cell_type": "code",
   "execution_count": 12,
   "id": "a0028695-edf3-4c88-a551-7e4077a22371",
   "metadata": {},
   "outputs": [],
   "source": [
    "# Create presamples\n",
    "\n",
    "low_carbon_electricity_id, low_carbon_electricity_path = ps.create_presamples_package(\n",
    "    matrix_data = low_carbon_electricity_matrix_data,\n",
    ")"
   ]
  },
  {
   "cell_type": "markdown",
   "id": "9d655e49-b6cc-43cd-ba85-e6d58d6551a3",
   "metadata": {},
   "source": [
    "## LCA calculation"
   ]
  },
  {
   "cell_type": "code",
   "execution_count": 13,
   "id": "7236fc9a-3775-4741-9746-a3c0e59e16d0",
   "metadata": {},
   "outputs": [],
   "source": [
    "from bw_helpers import sample_comparative_contribution, MyMonteCarloLCA, collect_contribution_samples"
   ]
  },
  {
   "cell_type": "code",
   "execution_count": 14,
   "id": "6d9429c6-279d-4860-b0f3-2c6aa4ca4aef",
   "metadata": {},
   "outputs": [],
   "source": [
    "all_demand_dict = all_demands[0].copy()\n",
    "for other_demand in all_demands[1:]:\n",
    "    all_demand_dict.update(other_demand)\n",
    "    \n",
    "clca = MyMonteCarloLCA(all_demand_dict, method=method)\n",
    "\n",
    "# Only modelling low-carbon electricity for the two AM devices at the moment\n",
    "lce_demand_dict = lce_demands[0].copy()\n",
    "for other_demand in lce_demands[1:]:\n",
    "    lce_demand_dict.update(other_demand)\n",
    "    \n",
    "clca_low_carbon_electricity = MyMonteCarloLCA(\n",
    "    lce_demand_dict,\n",
    "    method=method,\n",
    "    presamples=[low_carbon_electricity_path]\n",
    ")"
   ]
  },
  {
   "cell_type": "code",
   "execution_count": 15,
   "id": "10b38390-3faf-4c3a-b28c-cad7a4afe856",
   "metadata": {},
   "outputs": [
    {
     "name": "stdout",
     "output_type": "stream",
     "text": [
      "CPU times: total: 6.05 s\n",
      "Wall time: 1.76 s\n"
     ]
    },
    {
     "data": {
      "text/plain": [
       "15.604965540615328"
      ]
     },
     "execution_count": 15,
     "metadata": {},
     "output_type": "execute_result"
    }
   ],
   "source": [
    "%%time\n",
    "# Get things initialised\n",
    "next(clca)\n",
    "next(clca_low_carbon_electricity)"
   ]
  },
  {
   "cell_type": "code",
   "execution_count": 16,
   "id": "3aa77754-f464-47ad-8c03-d89200487d6a",
   "metadata": {},
   "outputs": [],
   "source": [
    "# These are the specific activities to break down the contributions to.\n",
    "# In a separate file so can be shared between notebooks.\n",
    "# import importlib\n",
    "# importlib.reload(final_activities)"
   ]
  },
  {
   "cell_type": "code",
   "execution_count": 17,
   "id": "e44b7ec7",
   "metadata": {},
   "outputs": [],
   "source": [
    "from final_activities import final_activities, component_order"
   ]
  },
  {
   "cell_type": "code",
   "execution_count": 18,
   "id": "e633c472-62b4-463d-a1fd-a0bbc6862f06",
   "metadata": {
    "scrolled": false
   },
   "outputs": [
    {
     "name": "stdout",
     "output_type": "stream",
     "text": [
      "CPU times: total: 4.78 s\n",
      "Wall time: 631 ms\n"
     ]
    },
    {
     "data": {
      "text/plain": [
       "[{'Total': 36.16458156546386,\n",
       "  'Implant (material)': 23.166708360859207,\n",
       "  'Implant (manufac.)': 4.897498757030254,\n",
       "  'Argon': 0.001053948605032561,\n",
       "  'Instruments (material)': 0.3106576143401987,\n",
       "  'Instruments (manufac.)': 0.005005164087896073,\n",
       "  'Packaging': 0.20945626602954945,\n",
       "  'Sterilisation': 0.38736472194888366,\n",
       "  'Transport': 3.7063140693855354,\n",
       "  'Anesthesia': 3.4805226631772768},\n",
       " {'Total': 10.20364531406662,\n",
       "  'Implant (material)': 4.87627449897081,\n",
       "  'Implant (manufac.)': 0.458675349162381,\n",
       "  'Argon': 2.6348713208692783e-05,\n",
       "  'Instruments (material)': 0.3106576143401987,\n",
       "  'Instruments (manufac.)': 0.005005164087896073,\n",
       "  'Packaging': 0.21178721077021218,\n",
       "  'Sterilisation': 0.20442499712935228,\n",
       "  'Transport': 0.6562714677152743,\n",
       "  'Anesthesia': 3.4805226631772768},\n",
       " {'Total': 11.230165495270963,\n",
       "  'Implant (material)': 1.9654511967822987,\n",
       "  'Implant (manufac.)': 1.0701942178569637,\n",
       "  'Argon': 1.2078825192557596,\n",
       "  'Instruments (material)': 3.108543237541582,\n",
       "  'Instruments (manufac.)': 1.142242726158758,\n",
       "  'Packaging': 0.1789884215650002,\n",
       "  'Sterilisation': 0.06914471848100723,\n",
       "  'Transport': 0.051352612460061065,\n",
       "  'Anesthesia': 2.4363658451695334},\n",
       " {'Total': 9.851547116588808,\n",
       "  'Implant (material)': 1.9654511967822987,\n",
       "  'Implant (manufac.)': 1.0701942178569637,\n",
       "  'Argon': 1.2078825192557596,\n",
       "  'Instruments (material)': 0.9421426648008697,\n",
       "  'Instruments (manufac.)': 1.9346821450347134,\n",
       "  'Packaging': 0.1789884215650002,\n",
       "  'Sterilisation': 0.06914471848100723,\n",
       "  'Transport': 0.04669538764265989,\n",
       "  'Anesthesia': 2.4363658451695334}]"
      ]
     },
     "execution_count": 18,
     "metadata": {},
     "output_type": "execute_result"
    }
   ],
   "source": [
    "%time sample_comparative_contribution(clca, all_demands, final_activities, cutoff= cutoff, max_level=max_level)"
   ]
  },
  {
   "cell_type": "markdown",
   "id": "9ecec592-abc1-4892-a582-f4145bf5f7f3",
   "metadata": {},
   "source": [
    "At the start, wall time was 42s (total 1m5s). Adding factorisation was a dead end (we're using the iterative solver for MC), but improving caching of previous guesses when the demand is changing seems to have brought it down to about 4s (total 5.5s).\n",
    "\n",
    "It seems to be mostly able to solve iteratively, occasionally has to restart from scratch.\n",
    "\n",
    "At that rate, 100 samples will take 7 minutes."
   ]
  },
  {
   "cell_type": "code",
   "execution_count": 19,
   "id": "47ab01c3-0bc1-4957-8b76-c8307ff029b5",
   "metadata": {
    "scrolled": false,
    "tags": []
   },
   "outputs": [
    {
     "name": "stdout",
     "output_type": "stream",
     "text": [
      "CPU times: total: 4h 51min 46s\n",
      "Wall time: 2h 13min 30s\n"
     ]
    }
   ],
   "source": [
    "%%time\n",
    "samples = collect_contribution_samples(\n",
    "    clca, \n",
    "    all_demands, \n",
    "    final_activities, \n",
    "    num_samples=num_samples, \n",
    "    method_label=method[1],\n",
    "    demand_labels=d_label,\n",
    "    component_order=component_order,\n",
    "    max_level=max_level,\n",
    "    cutoff= cutoff,\n",
    ")\n"
   ]
  },
  {
   "cell_type": "code",
   "execution_count": 20,
   "id": "97228942",
   "metadata": {
    "scrolled": false
   },
   "outputs": [],
   "source": [
    "from bw_helpers import ScoreGrouper\n",
    "grouper = ScoreGrouper(clca)\n",
    "residual = grouper.residual_score() \n",
    "#print(residual)\n",
    "#for key,score in grouper.residual_activities(exclude_databases={\"cutoff38\"}):\n",
    " #       print(f\" {score}{score/residual:5.0%}  {bd.get_activity(key)}\")"
   ]
  },
  {
   "cell_type": "code",
   "execution_count": 21,
   "id": "c9df2875-ce7c-46aa-91ff-a9804f516cb5",
   "metadata": {
    "scrolled": false
   },
   "outputs": [
    {
     "name": "stdout",
     "output_type": "stream",
     "text": [
      "CPU times: total: 2h 37min 55s\n",
      "Wall time: 1h 8min 33s\n"
     ]
    }
   ],
   "source": [
    "%%time\n",
    "samples_lce = collect_contribution_samples(\n",
    "    clca_low_carbon_electricity, \n",
    "    lce_demands, \n",
    "    final_activities, \n",
    "    num_samples=num_samples, \n",
    "    method_label=method[1],\n",
    "    demand_labels=['AM HTO', 'AM HTO (steel jig)'],\n",
    "    component_order=component_order,\n",
    "    max_level=max_level,\n",
    "    cutoff= cutoff\n",
    ")"
   ]
  },
  {
   "cell_type": "code",
   "execution_count": 22,
   "id": "2af38e55-b55b-41ff-886b-b1f797fd075c",
   "metadata": {},
   "outputs": [],
   "source": [
    "samples[\"energy_scenario\"] = \"Current\"\n",
    "samples_lce[\"energy_scenario\"] = \"Greener\"\n",
    "samples_combined = pd.concat([samples, samples_lce])"
   ]
  },
  {
   "cell_type": "code",
   "execution_count": 23,
   "id": "52a7c0f1-a2cf-4c58-8f87-11be15350a48",
   "metadata": {},
   "outputs": [
    {
     "name": "stderr",
     "output_type": "stream",
     "text": [
      "A subdirectory or file -p already exists.\n",
      "Error occurred while processing: -p.\n",
      "A subdirectory or file results already exists.\n",
      "Error occurred while processing: results.\n"
     ]
    }
   ],
   "source": [
    "!mkdir -p results\n",
    "samples_combined.to_csv(\"results/samples_comparative_gwp_contributions.csv\", index=False)"
   ]
  },
  {
   "cell_type": "code",
   "execution_count": null,
   "id": "8ddb9459",
   "metadata": {},
   "outputs": [],
   "source": []
  },
  {
   "cell_type": "code",
   "execution_count": null,
   "id": "5b0f037b",
   "metadata": {},
   "outputs": [],
   "source": []
  }
 ],
 "metadata": {
  "kernelspec": {
   "display_name": "ab",
   "language": "python",
   "name": "ab"
  },
  "language_info": {
   "codemirror_mode": {
    "name": "ipython",
    "version": 3
   },
   "file_extension": ".py",
   "mimetype": "text/x-python",
   "name": "python",
   "nbconvert_exporter": "python",
   "pygments_lexer": "ipython3",
   "version": "3.9.13"
  }
 },
 "nbformat": 4,
 "nbformat_minor": 5
}
